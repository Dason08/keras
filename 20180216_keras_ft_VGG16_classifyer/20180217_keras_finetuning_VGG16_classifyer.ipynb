{
 "cells": [
  {
   "cell_type": "markdown",
   "metadata": {},
   "source": [
    "## 今度こそFine-TuningしたVGG16で遊ぼう\n",
    "** 転移学習**とはImageNetのような巨大なデータセットを使って学習した重みを別のニューラルネットワークにコピーして、再学習(**Fine-Tuning**)を行うことである。手元にあるデータセットが少ない場合、特に有効な手法である。今回は、17種類の花の画像分類するツールを作成したいが、データ数が多くないため、VGGと同じ構成のネットワークを用意し、学習済みの重みを初期値として新しいデータセットを対象にfine-tuningするよ。\n",
    "<p>\n",
    "参 考\n",
    "* [転移学習について]https://elix-tech.github.io/ja/2016/06/02/kaggle-facial-keypoints-ja.html\n",
    "* [前半のfine-tuningについて]https://github.com/aidiary/keras-examples/blob/master/vgg16/17flowers/finetuning.py\n",
    "* [後半について]https://github.com/aidiary/keras-examples/blob/master/vgg16/17flowers/predict.py"
   ]
  },
  {
   "cell_type": "code",
   "execution_count": 1,
   "metadata": {},
   "outputs": [
    {
     "name": "stderr",
     "output_type": "stream",
     "text": [
      "Using TensorFlow backend.\n"
     ]
    }
   ],
   "source": [
    "import os\n",
    "import shutil\n",
    "import random\n",
    "from keras.applications.vgg16 import VGG16\n",
    "from keras.preprocessing.image import ImageDataGenerator\n",
    "from keras.models import Sequential, Model\n",
    "from keras.layers import Input, Activation, Dropout, Flatten, Dense\n",
    "from keras.preprocessing.image import ImageDataGenerator\n",
    "from keras import optimizers\n",
    "import numpy as np"
   ]
  },
  {
   "cell_type": "code",
   "execution_count": 2,
   "metadata": {
    "collapsed": true
   },
   "outputs": [],
   "source": [
    "#ディレクトリの指定、なければ作成\n",
    "IN_DIR = 'jpg'\n",
    "TRAIN_DIR = 'train_images'\n",
    "TEST_DIR = 'test_images'\n",
    "\n",
    "if not os.path.exists(TRAIN_DIR):\n",
    "    os.mkdir(TRAIN_DIR)\n",
    "\n",
    "if not os.path.exists(TEST_DIR):\n",
    "    os.mkdir(TEST_DIR)"
   ]
  },
  {
   "cell_type": "code",
   "execution_count": 3,
   "metadata": {
    "collapsed": true
   },
   "outputs": [],
   "source": [
    "#labels.txtのファイルを読み込んで、花の名前を入れるとその花の存在する範囲を返す関数を作るよ\n",
    "# name => (start idx, end idx)\n",
    "flower_dics = {}\n",
    "\n",
    "with open('labels.txt') as fp:\n",
    "    for line in fp:\n",
    "        line = line.rstrip() #文字列を右から削除\n",
    "        cols = line.split() #文字列を分割\n",
    "\n",
    "        assert len(cols) == 3 #超お手軽にテストする。条件式がFalseならアラート\n",
    "\n",
    "        start = int(cols[0])\n",
    "        end = int(cols[1])\n",
    "        name = cols[2]\n",
    "\n",
    "        flower_dics[name] = (start, end)"
   ]
  },
  {
   "cell_type": "code",
   "execution_count": 4,
   "metadata": {},
   "outputs": [
    {
     "ename": "FileExistsError",
     "evalue": "[Errno 17] File exists: 'train_images/Tulip'",
     "output_type": "error",
     "traceback": [
      "\u001b[0;31m---------------------------------------------------------------------------\u001b[0m",
      "\u001b[0;31mFileExistsError\u001b[0m                           Traceback (most recent call last)",
      "\u001b[0;32m<ipython-input-4-73ab1310b144>\u001b[0m in \u001b[0;36m<module>\u001b[0;34m()\u001b[0m\n\u001b[1;32m      1\u001b[0m \u001b[0;31m# 花ごとのディレクトリを作成\u001b[0m\u001b[0;34m\u001b[0m\u001b[0;34m\u001b[0m\u001b[0m\n\u001b[1;32m      2\u001b[0m \u001b[0;32mfor\u001b[0m \u001b[0mname\u001b[0m \u001b[0;32min\u001b[0m \u001b[0mflower_dics\u001b[0m\u001b[0;34m:\u001b[0m\u001b[0;34m\u001b[0m\u001b[0m\n\u001b[0;32m----> 3\u001b[0;31m     \u001b[0mos\u001b[0m\u001b[0;34m.\u001b[0m\u001b[0mmkdir\u001b[0m\u001b[0;34m(\u001b[0m\u001b[0mos\u001b[0m\u001b[0;34m.\u001b[0m\u001b[0mpath\u001b[0m\u001b[0;34m.\u001b[0m\u001b[0mjoin\u001b[0m\u001b[0;34m(\u001b[0m\u001b[0mTRAIN_DIR\u001b[0m\u001b[0;34m,\u001b[0m \u001b[0mname\u001b[0m\u001b[0;34m)\u001b[0m\u001b[0;34m)\u001b[0m\u001b[0;34m\u001b[0m\u001b[0m\n\u001b[0m\u001b[1;32m      4\u001b[0m     \u001b[0mos\u001b[0m\u001b[0;34m.\u001b[0m\u001b[0mmkdir\u001b[0m\u001b[0;34m(\u001b[0m\u001b[0mos\u001b[0m\u001b[0;34m.\u001b[0m\u001b[0mpath\u001b[0m\u001b[0;34m.\u001b[0m\u001b[0mjoin\u001b[0m\u001b[0;34m(\u001b[0m\u001b[0mTEST_DIR\u001b[0m\u001b[0;34m,\u001b[0m \u001b[0mname\u001b[0m\u001b[0;34m)\u001b[0m\u001b[0;34m)\u001b[0m\u001b[0;34m\u001b[0m\u001b[0m\n",
      "\u001b[0;31mFileExistsError\u001b[0m: [Errno 17] File exists: 'train_images/Tulip'"
     ]
    }
   ],
   "source": [
    "# 花ごとのディレクトリを作成\n",
    "for name in flower_dics:\n",
    "    os.mkdir(os.path.join(TRAIN_DIR, name))\n",
    "    os.mkdir(os.path.join(TEST_DIR, name))"
   ]
  },
  {
   "cell_type": "code",
   "execution_count": 5,
   "metadata": {
    "collapsed": true
   },
   "outputs": [],
   "source": [
    "# jpgをスキャン\n",
    "for f in sorted(os.listdir(IN_DIR)):\n",
    "    # image_0001.jpg => 1\n",
    "    prefix = f.replace('.jpg', '') #.jpg を (空白) に置き換える\n",
    "    idx = int(prefix.split('_',1)[1]) #'_'の前と後に分ける。その右の方を選び、それが数字だからint型にする。\n",
    "\n",
    "    for name in flower_dics:\n",
    "        start, end = flower_dics[name]\n",
    "        if idx in range(start, end + 1):\n",
    "            source = os.path.join(IN_DIR, f) \n",
    "            dest = os.path.join(TRAIN_DIR, name)\n",
    "            shutil.copy(source, dest)\n",
    "            continue"
   ]
  },
  {
   "cell_type": "code",
   "execution_count": 6,
   "metadata": {},
   "outputs": [
    {
     "ename": "Error",
     "evalue": "Destination path 'test_images/Bluebell/image_0255.jpg' already exists",
     "output_type": "error",
     "traceback": [
      "\u001b[0;31m---------------------------------------------------------------------------\u001b[0m",
      "\u001b[0;31mError\u001b[0m                                     Traceback (most recent call last)",
      "\u001b[0;32m<ipython-input-6-dbc751d4b389>\u001b[0m in \u001b[0;36m<module>\u001b[0;34m()\u001b[0m\n\u001b[1;32m      6\u001b[0m         \u001b[0msource\u001b[0m \u001b[0;34m=\u001b[0m \u001b[0mos\u001b[0m\u001b[0;34m.\u001b[0m\u001b[0mpath\u001b[0m\u001b[0;34m.\u001b[0m\u001b[0mjoin\u001b[0m\u001b[0;34m(\u001b[0m\u001b[0mTRAIN_DIR\u001b[0m\u001b[0;34m,\u001b[0m \u001b[0md\u001b[0m\u001b[0;34m,\u001b[0m \u001b[0mf\u001b[0m\u001b[0;34m)\u001b[0m  \u001b[0;31m#train_image/[花]/[画像]のpathをつなぐ\u001b[0m\u001b[0;34m\u001b[0m\u001b[0m\n\u001b[1;32m      7\u001b[0m         \u001b[0mdest\u001b[0m \u001b[0;34m=\u001b[0m \u001b[0mos\u001b[0m\u001b[0;34m.\u001b[0m\u001b[0mpath\u001b[0m\u001b[0;34m.\u001b[0m\u001b[0mjoin\u001b[0m\u001b[0;34m(\u001b[0m\u001b[0mTEST_DIR\u001b[0m\u001b[0;34m,\u001b[0m \u001b[0md\u001b[0m\u001b[0;34m)\u001b[0m \u001b[0;31m#test_image/[花]をつなぐ\u001b[0m\u001b[0;34m\u001b[0m\u001b[0m\n\u001b[0;32m----> 8\u001b[0;31m         \u001b[0mshutil\u001b[0m\u001b[0;34m.\u001b[0m\u001b[0mmove\u001b[0m\u001b[0;34m(\u001b[0m\u001b[0msource\u001b[0m\u001b[0;34m,\u001b[0m \u001b[0mdest\u001b[0m\u001b[0;34m)\u001b[0m \u001b[0;31m#sourceをdestファイルに移動\u001b[0m\u001b[0;34m\u001b[0m\u001b[0m\n\u001b[0m",
      "\u001b[0;32m/anaconda/envs/tensorflow/lib/python3.6/shutil.py\u001b[0m in \u001b[0;36mmove\u001b[0;34m(src, dst, copy_function)\u001b[0m\n\u001b[1;32m    540\u001b[0m         \u001b[0mreal_dst\u001b[0m \u001b[0;34m=\u001b[0m \u001b[0mos\u001b[0m\u001b[0;34m.\u001b[0m\u001b[0mpath\u001b[0m\u001b[0;34m.\u001b[0m\u001b[0mjoin\u001b[0m\u001b[0;34m(\u001b[0m\u001b[0mdst\u001b[0m\u001b[0;34m,\u001b[0m \u001b[0m_basename\u001b[0m\u001b[0;34m(\u001b[0m\u001b[0msrc\u001b[0m\u001b[0;34m)\u001b[0m\u001b[0;34m)\u001b[0m\u001b[0;34m\u001b[0m\u001b[0m\n\u001b[1;32m    541\u001b[0m         \u001b[0;32mif\u001b[0m \u001b[0mos\u001b[0m\u001b[0;34m.\u001b[0m\u001b[0mpath\u001b[0m\u001b[0;34m.\u001b[0m\u001b[0mexists\u001b[0m\u001b[0;34m(\u001b[0m\u001b[0mreal_dst\u001b[0m\u001b[0;34m)\u001b[0m\u001b[0;34m:\u001b[0m\u001b[0;34m\u001b[0m\u001b[0m\n\u001b[0;32m--> 542\u001b[0;31m             \u001b[0;32mraise\u001b[0m \u001b[0mError\u001b[0m\u001b[0;34m(\u001b[0m\u001b[0;34m\"Destination path '%s' already exists\"\u001b[0m \u001b[0;34m%\u001b[0m \u001b[0mreal_dst\u001b[0m\u001b[0;34m)\u001b[0m\u001b[0;34m\u001b[0m\u001b[0m\n\u001b[0m\u001b[1;32m    543\u001b[0m     \u001b[0;32mtry\u001b[0m\u001b[0;34m:\u001b[0m\u001b[0;34m\u001b[0m\u001b[0m\n\u001b[1;32m    544\u001b[0m         \u001b[0mos\u001b[0m\u001b[0;34m.\u001b[0m\u001b[0mrename\u001b[0m\u001b[0;34m(\u001b[0m\u001b[0msrc\u001b[0m\u001b[0;34m,\u001b[0m \u001b[0mreal_dst\u001b[0m\u001b[0;34m)\u001b[0m\u001b[0;34m\u001b[0m\u001b[0m\n",
      "\u001b[0;31mError\u001b[0m: Destination path 'test_images/Bluebell/image_0255.jpg' already exists"
     ]
    }
   ],
   "source": [
    "# 訓練データの各ディレクトリからランダムに10枚をテストとする\n",
    "for d in os.listdir(TRAIN_DIR):\n",
    "    files = os.listdir(os.path.join(TRAIN_DIR, d)) #pathをtrain_images/[花]として１つ１つ繋げる\n",
    "    random.shuffle(files) #花のファイル内の画像をシャッフル\n",
    "    for f in files[:10]: #シャッフルしたファイルから10個選び、それをfに１つ１つ入れていく。\n",
    "        source = os.path.join(TRAIN_DIR, d, f)  #train_image/[花]/[画像]のpathをつなぐ\n",
    "        dest = os.path.join(TEST_DIR, d) #test_image/[花]をつなぐ\n",
    "        shutil.move(source, dest) #sourceをdestファイルに移動"
   ]
  },
  {
   "cell_type": "code",
   "execution_count": 7,
   "metadata": {
    "collapsed": true
   },
   "outputs": [],
   "source": [
    "#結果を格納するディレクトリ作成\n",
    "result_dir = 'results'\n",
    "if not os.path.exists(result_dir):\n",
    "    os.mkdir(result_dir)\n",
    "\n",
    "    \n",
    "#結果を保存する関数の定義\n",
    "def save_history(history, result_file):\n",
    "    loss = history.history['loss']\n",
    "    acc = history.history['acc']\n",
    "    val_loss = history.history['val_loss']\n",
    "    val_acc = history.history['val_acc']\n",
    "    epochs = len(acc)\n",
    "\n",
    "    with open(result_file, \"w\") as fp:\n",
    "        fp.write(\"epoch\\tloss\\tacc\\tval_loss\\tval_acc\\n\")\n",
    "        for i in range(epochs):\n",
    "            fp.write(\"%d\\t%f\\t%f\\t%f\\t%f\\n\" % (i, loss[i], acc[i], val_loss[i], val_acc[i]))\n",
    "\n"
   ]
  },
  {
   "cell_type": "code",
   "execution_count": 8,
   "metadata": {
    "collapsed": true
   },
   "outputs": [],
   "source": [
    "classes = ['Tulip', 'Snowdrop', 'LilyValley', 'Bluebell', 'Crocus',\n",
    "           'Iris', 'Tigerlily', 'Daffodil', 'Fritillary', 'Sunflower',\n",
    "           'Daisy', 'ColtsFoot', 'Dandelion', 'Cowslip', 'Buttercup',\n",
    "           'Windflower', 'Pansy']\n",
    "batch_size = 32\n",
    "nb_classes = len(classes)\n",
    "img_rows, img_cols = 150, 150\n",
    "channels = 3\n",
    "epochs = 5\n",
    "train_samples = 1190\n",
    "val_samples = 170"
   ]
  },
  {
   "cell_type": "code",
   "execution_count": 9,
   "metadata": {
    "collapsed": true
   },
   "outputs": [],
   "source": [
    "# VGG16モデルと学習済み重みをロード\n",
    "# 全結合層（FC）はいらないのでinclude_top=False\n",
    "input_tensor = Input(shape=(img_rows, img_cols, 3))\n",
    "vgg16 = VGG16(include_top=False, weights='imagenet', input_tensor=input_tensor)\n",
    "\n",
    "# FC層を構築\n",
    "top_model = Sequential()\n",
    "top_model.add(Flatten(input_shape=vgg16.output_shape[1:]))\n",
    "top_model.add(Dense(256, activation='relu'))\n",
    "top_model.add(Dropout(0.5))\n",
    "top_model.add(Dense(nb_classes, activation='softmax'))\n",
    "\n",
    "# VGG16とFCを接続\n",
    "model = Model(inputs=vgg16.input, outputs=top_model(vgg16.output))"
   ]
  },
  {
   "cell_type": "code",
   "execution_count": 14,
   "metadata": {
    "collapsed": true
   },
   "outputs": [],
   "source": [
    "# 最後のconv層の直前までの層をfreeze\n",
    "for layer in model.layers[:15]:\n",
    "    layer.trainable = False\n",
    "\n",
    "# Fine-tuningのときはSGDの方がよい？\n",
    "    model.compile(loss='categorical_crossentropy',\n",
    "                  optimizer=optimizers.SGD(lr=1e-4, momentum=0.9),\n",
    "                  metrics=['accuracy'])"
   ]
  },
  {
   "cell_type": "code",
   "execution_count": 18,
   "metadata": {},
   "outputs": [
    {
     "name": "stdout",
     "output_type": "stream",
     "text": [
      "Found 1275 images belonging to 17 classes.\n",
      "Found 165 images belonging to 17 classes.\n"
     ]
    }
   ],
   "source": [
    "train_datagen = ImageDataGenerator(\n",
    "    rescale=1.0 / 255,\n",
    "    shear_range=0.2,\n",
    "    zoom_range=0.2,\n",
    "    horizontal_flip=True)\n",
    "\n",
    "test_datagen = ImageDataGenerator(rescale=1.0 / 255)\n",
    "\n",
    "train_generator = train_datagen.flow_from_directory(\n",
    "    TRAIN_DIR,\n",
    "    target_size=(img_rows, img_cols),\n",
    "    color_mode='rgb',\n",
    "    classes=classes,\n",
    "    class_mode='categorical',\n",
    "    batch_size=batch_size,\n",
    "    shuffle=True)\n",
    "\n",
    "validation_generator = test_datagen.flow_from_directory(\n",
    "    TEST_DIR,\n",
    "    target_size=(img_rows, img_cols),\n",
    "    color_mode='rgb',\n",
    "    classes=classes,\n",
    "    class_mode='categorical',\n",
    "    batch_size=batch_size,\n",
    "    shuffle=True)"
   ]
  },
  {
   "cell_type": "code",
   "execution_count": 26,
   "metadata": {},
   "outputs": [
    {
     "name": "stdout",
     "output_type": "stream",
     "text": [
      "Epoch 1/5\n",
      "40/40 [==============================] - 1024s 26s/step - loss: 3.0206 - acc: 0.0783 - val_loss: 2.6393 - val_acc: 0.2242\n",
      "Epoch 2/5\n",
      "40/40 [==============================] - 999s 25s/step - loss: 2.6157 - acc: 0.1593 - val_loss: 2.4074 - val_acc: 0.3818\n",
      "Epoch 3/5\n",
      "40/40 [==============================] - 893s 22s/step - loss: 2.3473 - acc: 0.2798 - val_loss: 2.1022 - val_acc: 0.4788\n",
      "Epoch 4/5\n",
      "40/40 [==============================] - 954s 24s/step - loss: 2.1094 - acc: 0.3455 - val_loss: 1.7665 - val_acc: 0.6061\n",
      "Epoch 5/5\n",
      "40/40 [==============================] - 958s 24s/step - loss: 1.8780 - acc: 0.4161 - val_loss: 1.4799 - val_acc: 0.6727\n"
     ]
    }
   ],
   "source": [
    "history = model.fit_generator(\n",
    "    train_generator,\n",
    "    validation_data=validation_generator,\n",
    "    epochs = epochs)"
   ]
  },
  {
   "cell_type": "code",
   "execution_count": 27,
   "metadata": {
    "collapsed": true
   },
   "outputs": [],
   "source": [
    "model.save_weights(os.path.join(result_dir, 'finetuning.h5'))\n",
    "save_history(history, os.path.join(result_dir, 'history_finetuning.txt'))"
   ]
  },
  {
   "cell_type": "code",
   "execution_count": 30,
   "metadata": {
    "collapsed": true
   },
   "outputs": [],
   "source": [
    "model.load_weights(os.path.join(result_dir, 'finetuning.h5'))\n",
    "\n",
    "model.compile(loss='categorical_crossentropy',\n",
    "              optimizer='adam',\n",
    "              metrics=['accuracy'])"
   ]
  },
  {
   "cell_type": "code",
   "execution_count": 49,
   "metadata": {
    "collapsed": true
   },
   "outputs": [],
   "source": [
    "from keras.preprocessing import image\n",
    "from keras.applications.vgg16 import preprocess_input,decode_predictions\n",
    "\n",
    "img_path = 'HIMAWARI.jpg'\n",
    "img = image.load_img(img_path, target_size=(img_rows, img_cols))\n",
    "x = image.img_to_array(img)\n",
    "x = np.expand_dims(x, axis=0)\n",
    "x = x / 255.0"
   ]
  },
  {
   "cell_type": "code",
   "execution_count": 50,
   "metadata": {
    "collapsed": true
   },
   "outputs": [],
   "source": [
    "# クラスを予測\n",
    "# 入力は1枚の画像なので[0]のみ\n",
    "pred = model.predict(x)[0]"
   ]
  },
  {
   "cell_type": "code",
   "execution_count": 51,
   "metadata": {},
   "outputs": [
    {
     "name": "stdout",
     "output_type": "stream",
     "text": [
      "('Daisy', 0.45715451)\n",
      "('Sunflower', 0.27258858)\n",
      "('Pansy', 0.060245577)\n",
      "('ColtsFoot', 0.050226245)\n",
      "('Windflower', 0.027738228)\n"
     ]
    }
   ],
   "source": [
    "# 予測確率が高いトップ5を出力\n",
    "top = 5\n",
    "top_indices = pred.argsort()[-top:][::-1]\n",
    "result = [(classes[i], pred[i]) for i in top_indices]\n",
    "for x in result:\n",
    "    print(x)"
   ]
  },
  {
   "cell_type": "code",
   "execution_count": null,
   "metadata": {
    "collapsed": true
   },
   "outputs": [],
   "source": []
  }
 ],
 "metadata": {
  "kernelspec": {
   "display_name": "Python 3",
   "language": "python",
   "name": "python3"
  },
  "language_info": {
   "codemirror_mode": {
    "name": "ipython",
    "version": 3
   },
   "file_extension": ".py",
   "mimetype": "text/x-python",
   "name": "python",
   "nbconvert_exporter": "python",
   "pygments_lexer": "ipython3",
   "version": "3.6.2"
  }
 },
 "nbformat": 4,
 "nbformat_minor": 2
}
